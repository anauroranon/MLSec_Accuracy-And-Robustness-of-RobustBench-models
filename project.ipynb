{
  "cells": [
    {
      "cell_type": "markdown",
      "id": "6093d197eceb2c91",
      "metadata": {
        "collapsed": false,
        "id": "6093d197eceb2c91"
      },
      "source": [
        "# Dependencies setup"
      ]
    },
    {
      "cell_type": "code",
      "execution_count": null,
      "id": "initial_id",
      "metadata": {
        "colab": {
          "base_uri": "https://localhost:8080/"
        },
        "id": "initial_id",
        "outputId": "50a5fa0b-b49f-43c5-d3ee-92e280e9e5fb"
      },
      "outputs": [],
      "source": [
        "import warnings\n",
        "try:\n",
        "    import torch\n",
        "except ImportError:\n",
        "    %pip install torch\n",
        "    import torch\n",
        "warnings.filterwarnings('ignore')\n",
        "#robustbench download\n",
        "%pip install -q git+https://github.com/RobustBench/robustbench.git\n",
        "#autoattack download\n",
        "%pip install -q git+https://github.com/fra31/auto-attack\n",
        "from autoattack import AutoAttack\n",
        "if torch.cuda.is_available():\n",
        "    device = \"cuda\"\n",
        "else:\n",
        "    device =\"cpu\"\n",
        "\n",
        "models = [\"Addepalli2022Efficient_RN18\",\"Debenedetti2022Light_XCiT-S12\",\"Debenedetti2022Light_XCiT-M12\",\n",
        "          \"Debenedetti2022Light_XCiT-L12\",\"Cui2023Decoupled_WRN-28-10\",\"Addepalli2022Efficient_WRN_34_10\",\n",
        "          \"Huang2022Revisiting_WRN-A4\",\"Wang2023Better_WRN-70-16\",\"Rebuffi2021Fixing_106_16_cutmix_ddpm\"]\n",
        "attacks_to_run=['apgd-ce','apgd-dlr','fab-t']\n"
      ]
    },
    {
      "cell_type": "markdown",
      "id": "c7c16f3918784cf2",
      "metadata": {
        "collapsed": false,
        "id": "c7c16f3918784cf2"
      },
      "source": [
        "# Acquiring the datasets and the models from RobustBench"
      ]
    },
    {
      "cell_type": "code",
      "execution_count": null,
      "id": "b0ee0536f140a19a",
      "metadata": {
        "colab": {
          "base_uri": "https://localhost:8080/"
        },
        "id": "b0ee0536f140a19a",
        "outputId": "37226614-31b6-4f17-a909-8fe8dfd1d1d7"
      },
      "outputs": [],
      "source": [
        "from robustbench.data import load_cifar10\n",
        "x_test,y_test = load_cifar10(n_examples=500)\n",
        "from robustbench.utils import load_model\n",
        "for m in models:\n",
        "    model = load_model(model_name=m,threat_model='Linf')"
      ]
    },
    {
      "cell_type": "markdown",
      "id": "7f1cd937",
      "metadata": {},
      "source": [
        "# Overall and per class accuracy evaluation"
      ]
    },
    {
      "cell_type": "code",
      "execution_count": null,
      "id": "19c6e581a7d8a37d",
      "metadata": {
        "colab": {
          "base_uri": "https://localhost:8080/",
          "height": 917
        },
        "id": "19c6e581a7d8a37d",
        "outputId": "47dcbd9f-ac15-4a8e-a3be-ac8b931a5f30"
      },
      "outputs": [],
      "source": [
        "for m in models:\n",
        "    torch.cuda.empty_cache()\n",
        "    print(\"Starting tests for model: {}\".format(m))\n",
        "    model = load_model(model_name=m, threat_model=\"Linf\")\n",
        "    model.to(device)\n",
        "    x_test.to(device)\n",
        "    y_test.to(device)\n",
        "    num_class = 10\n",
        "    for i in range(num_class):\n",
        "        class_indexes = y_test == i\n",
        "        x_class = x_test[class_indexes].to(device)\n",
        "        y_class = y_test[class_indexes].to(device)\n",
        "        print(\"data for class {}, len of y {}\".format(i, len(y_class)))\n",
        "\n",
        "    # overall accuracy evaluation\n",
        "    adversary = AutoAttack(\n",
        "        model,\n",
        "        norm=\"Linf\",\n",
        "        eps=8 / 255,\n",
        "        version=\"custom\",\n",
        "        attacks_to_run=attacks_to_run,\n",
        "        device=device,\n",
        "    )\n",
        "    adversary.apgd.n_restarts = 1\n",
        "    x_adv = adversary.run_standard_evaluation(x_test, y_test)\n",
        "\n",
        "    # accuracy evaluation per class\n",
        "    new_adversary = AutoAttack(\n",
        "        model,\n",
        "        norm=\"Linf\",\n",
        "        eps=8 / 255,\n",
        "        version=\"custom\",\n",
        "        attacks_to_run=attacks_to_run,\n",
        "        device=device,\n",
        "    )\n",
        "    new_adversary.apgd.n_restarts = 1\n",
        "    for i in range(0, num_class):\n",
        "        torch.cuda.empty_cache()\n",
        "        class_indexes = y_test == i\n",
        "        x_class = x_test[class_indexes].to(device)\n",
        "        y_class = y_test[class_indexes].to(device)\n",
        "        print(\"Robustness for class {}\".format(i))\n",
        "        x_adv = new_adversary.run_standard_evaluation(x_class, y_class)\n",
        "        print(\"#####################\")\n",
        "    print(\"Finished tests for model: {}\".format(m))"
      ]
    }
  ],
  "metadata": {
    "accelerator": "GPU",
    "colab": {
      "gpuType": "A100",
      "provenance": []
    },
    "kernelspec": {
      "display_name": "Python 3",
      "name": "python3"
    },
    "language_info": {
      "codemirror_mode": {
        "name": "ipython",
        "version": 3
      },
      "file_extension": ".py",
      "mimetype": "text/x-python",
      "name": "python",
      "nbconvert_exporter": "python",
      "pygments_lexer": "ipython3",
      "version": "3.11.6"
    }
  },
  "nbformat": 4,
  "nbformat_minor": 5
}
